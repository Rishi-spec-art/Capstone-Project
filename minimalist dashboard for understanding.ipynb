{
 "cells": [
  {
   "cell_type": "code",
   "execution_count": 1,
   "id": "9611e8b0",
   "metadata": {},
   "outputs": [],
   "source": [
    "import pandas as pd"
   ]
  },
  {
   "cell_type": "code",
   "execution_count": 2,
   "id": "4662a55a",
   "metadata": {},
   "outputs": [
    {
     "data": {
      "text/html": [
       "<div>\n",
       "<style scoped>\n",
       "    .dataframe tbody tr th:only-of-type {\n",
       "        vertical-align: middle;\n",
       "    }\n",
       "\n",
       "    .dataframe tbody tr th {\n",
       "        vertical-align: top;\n",
       "    }\n",
       "\n",
       "    .dataframe thead th {\n",
       "        text-align: right;\n",
       "    }\n",
       "</style>\n",
       "<table border=\"1\" class=\"dataframe\">\n",
       "  <thead>\n",
       "    <tr style=\"text-align: right;\">\n",
       "      <th></th>\n",
       "      <th>Unnamed: 0</th>\n",
       "      <th>Flight Number</th>\n",
       "      <th>Launch Site</th>\n",
       "      <th>class</th>\n",
       "      <th>Payload Mass (kg)</th>\n",
       "      <th>Booster Version</th>\n",
       "      <th>Booster Version Category</th>\n",
       "    </tr>\n",
       "  </thead>\n",
       "  <tbody>\n",
       "    <tr>\n",
       "      <th>0</th>\n",
       "      <td>0</td>\n",
       "      <td>1</td>\n",
       "      <td>CCAFS LC-40</td>\n",
       "      <td>0</td>\n",
       "      <td>0.0</td>\n",
       "      <td>F9 v1.0  B0003</td>\n",
       "      <td>v1.0</td>\n",
       "    </tr>\n",
       "    <tr>\n",
       "      <th>1</th>\n",
       "      <td>1</td>\n",
       "      <td>2</td>\n",
       "      <td>CCAFS LC-40</td>\n",
       "      <td>0</td>\n",
       "      <td>0.0</td>\n",
       "      <td>F9 v1.0  B0004</td>\n",
       "      <td>v1.0</td>\n",
       "    </tr>\n",
       "    <tr>\n",
       "      <th>2</th>\n",
       "      <td>2</td>\n",
       "      <td>3</td>\n",
       "      <td>CCAFS LC-40</td>\n",
       "      <td>0</td>\n",
       "      <td>525.0</td>\n",
       "      <td>F9 v1.0  B0005</td>\n",
       "      <td>v1.0</td>\n",
       "    </tr>\n",
       "    <tr>\n",
       "      <th>3</th>\n",
       "      <td>3</td>\n",
       "      <td>4</td>\n",
       "      <td>CCAFS LC-40</td>\n",
       "      <td>0</td>\n",
       "      <td>500.0</td>\n",
       "      <td>F9 v1.0  B0006</td>\n",
       "      <td>v1.0</td>\n",
       "    </tr>\n",
       "    <tr>\n",
       "      <th>4</th>\n",
       "      <td>4</td>\n",
       "      <td>5</td>\n",
       "      <td>CCAFS LC-40</td>\n",
       "      <td>0</td>\n",
       "      <td>677.0</td>\n",
       "      <td>F9 v1.0  B0007</td>\n",
       "      <td>v1.0</td>\n",
       "    </tr>\n",
       "  </tbody>\n",
       "</table>\n",
       "</div>"
      ],
      "text/plain": [
       "   Unnamed: 0  Flight Number  Launch Site  class  Payload Mass (kg)  \\\n",
       "0           0              1  CCAFS LC-40      0                0.0   \n",
       "1           1              2  CCAFS LC-40      0                0.0   \n",
       "2           2              3  CCAFS LC-40      0              525.0   \n",
       "3           3              4  CCAFS LC-40      0              500.0   \n",
       "4           4              5  CCAFS LC-40      0              677.0   \n",
       "\n",
       "  Booster Version Booster Version Category  \n",
       "0  F9 v1.0  B0003                     v1.0  \n",
       "1  F9 v1.0  B0004                     v1.0  \n",
       "2  F9 v1.0  B0005                     v1.0  \n",
       "3  F9 v1.0  B0006                     v1.0  \n",
       "4  F9 v1.0  B0007                     v1.0  "
      ]
     },
     "execution_count": 2,
     "metadata": {},
     "output_type": "execute_result"
    }
   ],
   "source": [
    "df=pd.read_csv(\"https://cf-courses-data.s3.us.cloud-object-storage.appdomain.cloud/IBM-DS0321EN-SkillsNetwork/datasets/spacex_launch_dash.csv\")\n",
    "df.head()"
   ]
  },
  {
   "cell_type": "code",
   "execution_count": 3,
   "id": "9322bd23",
   "metadata": {},
   "outputs": [
    {
     "data": {
      "text/plain": [
       "CCAFS LC-40     26\n",
       "KSC LC-39A      13\n",
       "VAFB SLC-4E     10\n",
       "CCAFS SLC-40     7\n",
       "Name: Launch Site, dtype: int64"
      ]
     },
     "execution_count": 3,
     "metadata": {},
     "output_type": "execute_result"
    }
   ],
   "source": [
    "df['Launch Site'].value_counts()"
   ]
  },
  {
   "cell_type": "code",
   "execution_count": 4,
   "id": "4413d19d",
   "metadata": {},
   "outputs": [],
   "source": [
    "from dash import Dash, html, dcc\n",
    "from dash.dependencies import Input, Output\n",
    "import plotly.express as px"
   ]
  },
  {
   "cell_type": "code",
   "execution_count": 5,
   "id": "0279e55c",
   "metadata": {},
   "outputs": [],
   "source": [
    "min_payload=df['Payload Mass (kg)'].min()\n",
    "max_payload=df['Payload Mass (kg)'].max()"
   ]
  },
  {
   "cell_type": "code",
   "execution_count": 9,
   "id": "fe6c7410",
   "metadata": {},
   "outputs": [],
   "source": [
    "app=Dash(__name__)"
   ]
  },
  {
   "cell_type": "code",
   "execution_count": 10,
   "id": "20a42c53",
   "metadata": {
    "scrolled": false
   },
   "outputs": [
    {
     "data": {
      "text/html": [
       "\n",
       "        <iframe\n",
       "            width=\"100%\"\n",
       "            height=\"650\"\n",
       "            src=\"http://127.0.0.1:8000/\"\n",
       "            frameborder=\"0\"\n",
       "            allowfullscreen\n",
       "            \n",
       "        ></iframe>\n",
       "        "
      ],
      "text/plain": [
       "<IPython.lib.display.IFrame at 0x1ce697250d0>"
      ]
     },
     "metadata": {},
     "output_type": "display_data"
    }
   ],
   "source": [
    "app.layout=html.Div(children=[html.H1('SpaceX Launch Records Dashboard',\n",
    "                                      style={'textAlign':'center', 'color':'#503D36',\n",
    "                                             'font-size':40}),\n",
    "                              dcc.Dropdown(id='site-dropdown',\n",
    "                                           options=[{'label':'All Sites', 'value':'ALL'},\n",
    "                                                    {'label':'CCAFS LC-40', 'value':'CCAFS LC-40'},\n",
    "                                                    {'label':'KSC LC-39A', 'value':'KSC LC-39A'},\n",
    "                                                    {'label':'VAFB SLC-4E', 'value':'VAFB SLC-4E'},\n",
    "                                                    {'label':'CCAFS SLC-40', 'value':'CCAFS SLC-40'},\n",
    "                                                   ],\n",
    "                                           placeholder='Select a Launch Site here',\n",
    "                                           value='ALL',\n",
    "                                           searchable=True\n",
    "                                          ),\n",
    "                              html.Br(),\n",
    "                              html.Div(dcc.Graph(id='success-pie-chart')),\n",
    "                              html.Br(),\n",
    "                              html.P(\"Payload range (Kg):\"),\n",
    "                              \n",
    "                              dcc.RangeSlider(id='payload-slider',\n",
    "                                              min=0, max=10000, step=1000,\n",
    "                                              marks={0:'0',\n",
    "                                                     2500:'2500',\n",
    "                                                     5000:'5000',\n",
    "                                                     7500:'7500',\n",
    "                                                     10000:'10000'},\n",
    "                                              value=[min_payload, max_payload]),\n",
    "                              html.Div(dcc.Graph(id='success-payload-scatter-chart'))\n",
    "                             ])\n",
    "\n",
    "@app.callback(Output(component_id='success-pie-chart', component_property='figure'),\n",
    "             Input(component_id='site-dropdown', component_property='value'))\n",
    "\n",
    "def get_pie_chart(entered_site):\n",
    "    if(entered_site=='ALL'):\n",
    "        fig=px.pie(data_frame=df, \n",
    "                   values='class', \n",
    "                   names='Launch Site',\n",
    "                   title='Total Success launches by Site')\n",
    "        return fig\n",
    "    else:\n",
    "        df_t=df.loc[df['Launch Site']==entered_site]\n",
    "        fig=px.pie(data_frame=df_t, names='class', title='Total Launch for specific Site')\n",
    "        return fig\n",
    "    \n",
    "@app.callback(Output(component_id='success-payload-scatter-chart', component_property='figure'),\n",
    "              [Input(component_id='site-dropdown', component_property='value'),\n",
    "               Input(component_id='payload-slider', component_property='value')])\n",
    "\n",
    "def update_graph(entered_site, payload_slider):\n",
    "    if(entered_site=='ALL'):\n",
    "        df_filter=df[(df['Payload Mass (kg)'] >=payload_slider[0]) & (df['Payload Mass (kg)'] <=payload_slider[1])]\n",
    "        scatter=px.scatter(data_frame=df_filter,\n",
    "                               x='Payload Mass (kg)',\n",
    "                               y='class',\n",
    "                               color='Booster Version Category')\n",
    "        return scatter\n",
    "    else:\n",
    "        df_t=df.loc[df['Launch Site'] == entered_site]\n",
    "        df_filter=df_t[(df_t['Payload Mass (kg)'] >=payload_slider[0]) & (df_t['Payload Mass (kg)'] <=payload_slider[1])]\n",
    "        scatter=px.scatter(data_frame=df_filter,\n",
    "                               x='Payload Mass (kg)',\n",
    "                               y='class',\n",
    "                               color='Booster Version')\n",
    "        return scatter\n",
    "\n",
    "if __name__=='__main__':\n",
    "    app.run_server(port=8000)"
   ]
  }
 ],
 "metadata": {
  "kernelspec": {
   "display_name": "Python 3 (ipykernel)",
   "language": "python",
   "name": "python3"
  },
  "language_info": {
   "codemirror_mode": {
    "name": "ipython",
    "version": 3
   },
   "file_extension": ".py",
   "mimetype": "text/x-python",
   "name": "python",
   "nbconvert_exporter": "python",
   "pygments_lexer": "ipython3",
   "version": "3.11.4"
  }
 },
 "nbformat": 4,
 "nbformat_minor": 5
}
